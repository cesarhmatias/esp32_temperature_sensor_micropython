{
 "cells": [
  {
   "cell_type": "code",
   "execution_count": 26,
   "id": "3c11e0c2",
   "metadata": {},
   "outputs": [],
   "source": [
    "number = 5\n",
    "data = 15\n",
    "list_data = []\n",
    "list_index = []\n"
   ]
  },
  {
   "cell_type": "code",
   "execution_count": 27,
   "id": "a4285524",
   "metadata": {},
   "outputs": [
    {
     "name": "stdout",
     "output_type": "stream",
     "text": [
      "[15, 17, 17, 17, 17]\n"
     ]
    }
   ],
   "source": [
    "for i in range(number):\n",
    "            list_index.append(i)\n",
    "            # list_date[i] = today()\n",
    "            list_data.append(data)\n",
    "            data = 17\n",
    "            \n",
    "            \n",
    "print(list_data)"
   ]
  },
  {
   "cell_type": "code",
   "execution_count": 30,
   "id": "cbd8a66f",
   "metadata": {},
   "outputs": [],
   "source": [
    "import pandas as pd"
   ]
  },
  {
   "cell_type": "code",
   "execution_count": 33,
   "id": "c674f7b6",
   "metadata": {},
   "outputs": [],
   "source": [
    "df_ds18b20_ar_desligado = pd.DataFrame.from_dict({'raw': [25.125, 25.0625, 25.0, 25.0625, 25.0625], 'index': [0, 1, 2, 3, 4]})\n",
    "df_ds18b20_ar_ligado = pd.DataFrame.from_dict({'raw': [21.8125, 21.9375, 21.875, 21.875, 21.9375], 'index': [0, 1, 2, 3, 4]})"
   ]
  },
  {
   "cell_type": "code",
   "execution_count": 34,
   "id": "4e6ae090",
   "metadata": {},
   "outputs": [],
   "source": [
    "df_lm35_ar_desligado = pd.DataFrame.from_dict({'raw': [17.3, 17.4, 17.5, 16.3, 18.7], 'index': [0, 1, 2, 3, 4]})\n",
    "df_lm35_ar_ligado = pd.DataFrame.from_dict({'raw': [13.4667, 13.4446, 13.4622, 13.4712, 13.4302], 'index': [0, 1, 2, 3, 4]})\n"
   ]
  },
  {
   "cell_type": "code",
   "execution_count": 36,
   "id": "deab7795",
   "metadata": {},
   "outputs": [],
   "source": [
    "df_ds18b20_ar_desligado.to_csv('df_ds18b20_ar_desligado.csv')\n",
    "df_ds18b20_ar_ligado.to_csv('df_ds18b20_ar_ligado.csv')\n",
    "df_lm35_ar_desligado.to_csv('df_lm35_ar_desligado.csv')\n",
    "df_lm35_ar_ligado.to_csv('df_lm35_ar_ligado.csv')"
   ]
  },
  {
   "cell_type": "code",
   "execution_count": 35,
   "id": "78971426",
   "metadata": {},
   "outputs": [
    {
     "data": {
      "text/html": [
       "<div>\n",
       "<style scoped>\n",
       "    .dataframe tbody tr th:only-of-type {\n",
       "        vertical-align: middle;\n",
       "    }\n",
       "\n",
       "    .dataframe tbody tr th {\n",
       "        vertical-align: top;\n",
       "    }\n",
       "\n",
       "    .dataframe thead th {\n",
       "        text-align: right;\n",
       "    }\n",
       "</style>\n",
       "<table border=\"1\" class=\"dataframe\">\n",
       "  <thead>\n",
       "    <tr style=\"text-align: right;\">\n",
       "      <th></th>\n",
       "      <th>raw</th>\n",
       "      <th>index</th>\n",
       "    </tr>\n",
       "  </thead>\n",
       "  <tbody>\n",
       "    <tr>\n",
       "      <th>0</th>\n",
       "      <td>21.8125</td>\n",
       "      <td>0</td>\n",
       "    </tr>\n",
       "    <tr>\n",
       "      <th>1</th>\n",
       "      <td>21.9375</td>\n",
       "      <td>1</td>\n",
       "    </tr>\n",
       "    <tr>\n",
       "      <th>2</th>\n",
       "      <td>21.8750</td>\n",
       "      <td>2</td>\n",
       "    </tr>\n",
       "    <tr>\n",
       "      <th>3</th>\n",
       "      <td>21.8750</td>\n",
       "      <td>3</td>\n",
       "    </tr>\n",
       "    <tr>\n",
       "      <th>4</th>\n",
       "      <td>21.9375</td>\n",
       "      <td>4</td>\n",
       "    </tr>\n",
       "  </tbody>\n",
       "</table>\n",
       "</div>"
      ],
      "text/plain": [
       "       raw  index\n",
       "0  21.8125      0\n",
       "1  21.9375      1\n",
       "2  21.8750      2\n",
       "3  21.8750      3\n",
       "4  21.9375      4"
      ]
     },
     "execution_count": 35,
     "metadata": {},
     "output_type": "execute_result"
    }
   ],
   "source": [
    "df_ds18b20_ar_ligado"
   ]
  },
  {
   "cell_type": "code",
   "execution_count": null,
   "id": "0797933e",
   "metadata": {},
   "outputs": [],
   "source": []
  }
 ],
 "metadata": {
  "kernelspec": {
   "display_name": "Python 3 (ipykernel)",
   "language": "python",
   "name": "python3"
  },
  "language_info": {
   "codemirror_mode": {
    "name": "ipython",
    "version": 3
   },
   "file_extension": ".py",
   "mimetype": "text/x-python",
   "name": "python",
   "nbconvert_exporter": "python",
   "pygments_lexer": "ipython3",
   "version": "3.10.7"
  }
 },
 "nbformat": 4,
 "nbformat_minor": 5
}
